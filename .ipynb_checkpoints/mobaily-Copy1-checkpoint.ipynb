{
 "cells": [
  {
   "cell_type": "markdown",
   "metadata": {},
   "source": [
    "## Import Modules"
   ]
  },
  {
   "cell_type": "code",
   "execution_count": 1,
   "metadata": {},
   "outputs": [],
   "source": [
    "from selenium import webdriver\n",
    "from selenium.webdriver.common.by import By\n",
    "from time import sleep\n",
    "import pandas as pd\n",
    "from selenium import webdriver\n",
    "from selenium.webdriver.common.keys import Keys\n",
    "from selenium.webdriver.support.ui import WebDriverWait\n",
    "from selenium.webdriver.support import expected_conditions as EC\n",
    "from selenium.common.exceptions import NoSuchElementException, TimeoutException\n",
    "from bs4 import BeautifulSoup\n",
    "import numpy as np"
   ]
  },
  {
   "cell_type": "markdown",
   "metadata": {},
   "source": [
    "## Set path for Webdriver"
   ]
  },
  {
   "cell_type": "code",
   "execution_count": 2,
   "metadata": {},
   "outputs": [],
   "source": [
    "# open the browser\n",
    "# browser = webdriver.Chrome(executable_path = path)\n",
    "browser = webdriver.Chrome()\n"
   ]
  },
  {
   "cell_type": "code",
   "execution_count": 3,
   "metadata": {},
   "outputs": [],
   "source": [
    "products = []\n",
    "input_file = r\"E:\\365 ds\\abo\\silinum\\mobily\\pn.xlsx\"\n",
    "output_file = r\"E:\\365 ds\\abo\\silinum\\mobily\\output_data.xlsx\"\n",
    "df = pd.read_excel(input_file)"
   ]
  },
  {
   "cell_type": "code",
   "execution_count": 4,
   "metadata": {},
   "outputs": [],
   "source": [
    "# send the input to the webpage\n",
    "def search(pn):\n",
    "    try:\n",
    "        search_bar = browser.find_element(By.CSS_SELECTOR, \"input[placeholder='Search']\")\n",
    "        search_bar.clear()\n",
    "        search_bar.send_keys(pn)\n",
    "        search_bar.send_keys(Keys.ENTER)\n",
    "    except NoSuchElementException:\n",
    "        print(f\"Search bar not found for PN: {pn}\")"
   ]
  },
  {
   "cell_type": "code",
   "execution_count": 5,
   "metadata": {},
   "outputs": [],
   "source": [
    "def search_result(x):\n",
    "    y=str(x)\n",
    "    m='#content > div.products-category > div.products-list.row.nopadding-xs > div:nth-child(' +y+')'\n",
    "    print(m)\n",
    "    try:\n",
    "        search_result_element = WebDriverWait(browser, 20).until(\n",
    "            EC.presence_of_element_located((By.CSS_SELECTOR, m))\n",
    "        )\n",
    "        search_result_element.click()\n",
    "        return browser.current_url\n",
    "    except (TimeoutException, NoSuchElementException):\n",
    "        print(\"Search result not found or took too long to load\")\n",
    "        return None"
   ]
  },
  {
   "cell_type": "code",
   "execution_count": 6,
   "metadata": {},
   "outputs": [],
   "source": [
    "def extract_table_data():\n",
    "    soup = BeautifulSoup(browser.page_source, 'html.parser')\n",
    "    container = soup.find('div', {'class': 'product-box-desc'})\n",
    "    \n",
    "    data = []\n",
    "    if container:\n",
    "        rows = container.find_all('div', {'class': 'inner-box-desc'})\n",
    "        for row in rows:\n",
    "            brand = row.find('div', {'class': 'brand'})\n",
    "            value_br = row.find('span', {'itemprop': 'name'})\n",
    "            if brand and value_br:\n",
    "                label = brand.get_text(strip=True)\n",
    "                value_br = value_br.get_text(strip=True)\n",
    "                data.append((label, value_br))\n",
    "    \n",
    "    return data"
   ]
  },
  {
   "cell_type": "markdown",
   "metadata": {},
   "source": [
    "## Scrape Products from mobaily\n",
    "\n"
   ]
  },
  {
   "cell_type": "code",
   "execution_count": 7,
   "metadata": {},
   "outputs": [
    {
     "name": "stdout",
     "output_type": "stream",
     "text": [
      "Scraping page 1\n",
      "#content > div.products-category > div.products-list.row.nopadding-xs > div:nth-child(1)\n",
      "https://mobaili.com/index.php?route=product/product&product_id=558&search=honor\n",
      "#content > div.products-category > div.products-list.row.nopadding-xs > div:nth-child(2)\n",
      "https://mobaili.com/index.php?route=product/product&product_id=1222&search=honor\n",
      "#content > div.products-category > div.products-list.row.nopadding-xs > div:nth-child(3)\n",
      "https://mobaili.com/index.php?route=product/product&product_id=1627&search=honor\n",
      "#content > div.products-category > div.products-list.row.nopadding-xs > div:nth-child(4)\n",
      "https://mobaili.com/index.php?route=product/product&product_id=1628&search=honor\n",
      "#content > div.products-category > div.products-list.row.nopadding-xs > div:nth-child(5)\n",
      "https://mobaili.com/index.php?route=product/product&product_id=1271&search=honor\n",
      "#content > div.products-category > div.products-list.row.nopadding-xs > div:nth-child(6)\n",
      "https://mobaili.com/index.php?route=product/product&product_id=1359&search=honor\n",
      "#content > div.products-category > div.products-list.row.nopadding-xs > div:nth-child(7)\n",
      "https://mobaili.com/index.php?route=product/product&product_id=1280&search=honor\n",
      "#content > div.products-category > div.products-list.row.nopadding-xs > div:nth-child(8)\n",
      "https://mobaili.com/index.php?route=product/product&product_id=1131&search=honor\n",
      "#content > div.products-category > div.products-list.row.nopadding-xs > div:nth-child(9)\n",
      "https://mobaili.com/index.php?route=product/product&product_id=1039&search=honor\n",
      "#content > div.products-category > div.products-list.row.nopadding-xs > div:nth-child(10)\n",
      "https://mobaili.com/index.php?route=product/product&product_id=658&search=honor\n",
      "#content > div.products-category > div.products-list.row.nopadding-xs > div:nth-child(11)\n",
      "https://mobaili.com/index.php?route=product/product&product_id=1044&search=honor\n",
      "#content > div.products-category > div.products-list.row.nopadding-xs > div:nth-child(12)\n",
      "https://mobaili.com/index.php?route=product/product&product_id=1007&search=honor\n",
      "Scraping page 2\n",
      "#content > div.products-category > div.products-list.row.nopadding-xs > div:nth-child(1)\n",
      "https://mobaili.com/index.php?route=product/product&product_id=558&search=honor\n",
      "#content > div.products-category > div.products-list.row.nopadding-xs > div:nth-child(2)\n",
      "https://mobaili.com/index.php?route=product/product&product_id=1222&search=honor\n",
      "#content > div.products-category > div.products-list.row.nopadding-xs > div:nth-child(3)\n",
      "https://mobaili.com/index.php?route=product/product&product_id=1627&search=honor\n",
      "#content > div.products-category > div.products-list.row.nopadding-xs > div:nth-child(4)\n",
      "https://mobaili.com/index.php?route=product/product&product_id=1628&search=honor\n",
      "#content > div.products-category > div.products-list.row.nopadding-xs > div:nth-child(5)\n",
      "https://mobaili.com/index.php?route=product/product&product_id=1271&search=honor\n",
      "#content > div.products-category > div.products-list.row.nopadding-xs > div:nth-child(6)\n",
      "https://mobaili.com/index.php?route=product/product&product_id=1359&search=honor\n",
      "#content > div.products-category > div.products-list.row.nopadding-xs > div:nth-child(7)\n",
      "https://mobaili.com/index.php?route=product/product&product_id=1280&search=honor\n",
      "#content > div.products-category > div.products-list.row.nopadding-xs > div:nth-child(8)\n",
      "https://mobaili.com/index.php?route=product/product&product_id=1131&search=honor\n",
      "#content > div.products-category > div.products-list.row.nopadding-xs > div:nth-child(9)\n",
      "https://mobaili.com/index.php?route=product/product&product_id=1039&search=honor\n",
      "#content > div.products-category > div.products-list.row.nopadding-xs > div:nth-child(10)\n",
      "https://mobaili.com/index.php?route=product/product&product_id=658&search=honor\n",
      "#content > div.products-category > div.products-list.row.nopadding-xs > div:nth-child(11)\n",
      "https://mobaili.com/index.php?route=product/product&product_id=1044&search=honor\n",
      "#content > div.products-category > div.products-list.row.nopadding-xs > div:nth-child(12)\n",
      "https://mobaili.com/index.php?route=product/product&product_id=1007&search=honor\n",
      "Scraping page 1\n",
      "#content > div.products-category > div.products-list.row.nopadding-xs > div:nth-child(1)\n",
      "https://mobaili.com/index.php?route=product/product&product_id=1250&search=oppo\n",
      "#content > div.products-category > div.products-list.row.nopadding-xs > div:nth-child(2)\n",
      "https://mobaili.com/index.php?route=product/product&product_id=1446&search=oppo\n",
      "#content > div.products-category > div.products-list.row.nopadding-xs > div:nth-child(3)\n",
      "https://mobaili.com/index.php?route=product/product&product_id=1563&search=oppo\n",
      "#content > div.products-category > div.products-list.row.nopadding-xs > div:nth-child(4)\n",
      "https://mobaili.com/index.php?route=product/product&product_id=1620&search=oppo\n",
      "#content > div.products-category > div.products-list.row.nopadding-xs > div:nth-child(5)\n",
      "https://mobaili.com/index.php?route=product/product&product_id=1621&search=oppo\n",
      "#content > div.products-category > div.products-list.row.nopadding-xs > div:nth-child(6)\n",
      "https://mobaili.com/index.php?route=product/product&product_id=1619&search=oppo\n",
      "#content > div.products-category > div.products-list.row.nopadding-xs > div:nth-child(7)\n",
      "https://mobaili.com/index.php?route=product/product&product_id=1363&search=oppo\n",
      "#content > div.products-category > div.products-list.row.nopadding-xs > div:nth-child(8)\n",
      "https://mobaili.com/index.php?route=product/product&product_id=1407&search=oppo\n",
      "#content > div.products-category > div.products-list.row.nopadding-xs > div:nth-child(9)\n",
      "https://mobaili.com/index.php?route=product/product&product_id=1450&search=oppo\n",
      "#content > div.products-category > div.products-list.row.nopadding-xs > div:nth-child(10)\n",
      "https://mobaili.com/index.php?route=product/product&product_id=863&search=oppo\n",
      "#content > div.products-category > div.products-list.row.nopadding-xs > div:nth-child(11)\n",
      "https://mobaili.com/index.php?route=product/product&product_id=1018&search=oppo\n",
      "#content > div.products-category > div.products-list.row.nopadding-xs > div:nth-child(12)\n",
      "https://mobaili.com/index.php?route=product/product&product_id=1284&search=oppo\n",
      "Scraping page 2\n",
      "#content > div.products-category > div.products-list.row.nopadding-xs > div:nth-child(1)\n",
      "https://mobaili.com/index.php?route=product/product&product_id=1250&search=oppo\n",
      "#content > div.products-category > div.products-list.row.nopadding-xs > div:nth-child(2)\n",
      "https://mobaili.com/index.php?route=product/product&product_id=1446&search=oppo\n",
      "#content > div.products-category > div.products-list.row.nopadding-xs > div:nth-child(3)\n",
      "https://mobaili.com/index.php?route=product/product&product_id=1563&search=oppo\n",
      "#content > div.products-category > div.products-list.row.nopadding-xs > div:nth-child(4)\n",
      "https://mobaili.com/index.php?route=product/product&product_id=1620&search=oppo\n",
      "#content > div.products-category > div.products-list.row.nopadding-xs > div:nth-child(5)\n",
      "https://mobaili.com/index.php?route=product/product&product_id=1621&search=oppo\n",
      "#content > div.products-category > div.products-list.row.nopadding-xs > div:nth-child(6)\n",
      "https://mobaili.com/index.php?route=product/product&product_id=1619&search=oppo\n",
      "#content > div.products-category > div.products-list.row.nopadding-xs > div:nth-child(7)\n",
      "https://mobaili.com/index.php?route=product/product&product_id=1363&search=oppo\n",
      "#content > div.products-category > div.products-list.row.nopadding-xs > div:nth-child(8)\n",
      "https://mobaili.com/index.php?route=product/product&product_id=1407&search=oppo\n",
      "#content > div.products-category > div.products-list.row.nopadding-xs > div:nth-child(9)\n",
      "https://mobaili.com/index.php?route=product/product&product_id=1450&search=oppo\n",
      "#content > div.products-category > div.products-list.row.nopadding-xs > div:nth-child(10)\n",
      "https://mobaili.com/index.php?route=product/product&product_id=863&search=oppo\n",
      "#content > div.products-category > div.products-list.row.nopadding-xs > div:nth-child(11)\n",
      "https://mobaili.com/index.php?route=product/product&product_id=1018&search=oppo\n",
      "#content > div.products-category > div.products-list.row.nopadding-xs > div:nth-child(12)\n",
      "https://mobaili.com/index.php?route=product/product&product_id=1284&search=oppo\n",
      "Scraping page 1\n",
      "#content > div.products-category > div.products-list.row.nopadding-xs > div:nth-child(1)\n",
      "https://mobaili.com/index.php?route=product/product&product_id=1151&search=realme\n",
      "#content > div.products-category > div.products-list.row.nopadding-xs > div:nth-child(2)\n",
      "https://mobaili.com/index.php?route=product/product&product_id=1020&search=realme\n",
      "#content > div.products-category > div.products-list.row.nopadding-xs > div:nth-child(3)\n",
      "https://mobaili.com/index.php?route=product/product&product_id=638&search=realme\n",
      "#content > div.products-category > div.products-list.row.nopadding-xs > div:nth-child(4)\n",
      "https://mobaili.com/index.php?route=product/product&product_id=1077&search=realme\n",
      "#content > div.products-category > div.products-list.row.nopadding-xs > div:nth-child(5)\n",
      "https://mobaili.com/index.php?route=product/product&product_id=1268&search=realme\n",
      "#content > div.products-category > div.products-list.row.nopadding-xs > div:nth-child(6)\n",
      "https://mobaili.com/index.php?route=product/product&product_id=1366&search=realme\n",
      "#content > div.products-category > div.products-list.row.nopadding-xs > div:nth-child(7)\n",
      "https://mobaili.com/index.php?route=product/product&product_id=1368&search=realme\n",
      "#content > div.products-category > div.products-list.row.nopadding-xs > div:nth-child(8)\n",
      "https://mobaili.com/index.php?route=product/product&product_id=1367&search=realme\n",
      "#content > div.products-category > div.products-list.row.nopadding-xs > div:nth-child(9)\n",
      "https://mobaili.com/index.php?route=product/product&product_id=1426&search=realme\n",
      "#content > div.products-category > div.products-list.row.nopadding-xs > div:nth-child(10)\n",
      "https://mobaili.com/index.php?route=product/product&product_id=1504&search=realme\n",
      "#content > div.products-category > div.products-list.row.nopadding-xs > div:nth-child(11)\n",
      "https://mobaili.com/index.php?route=product/product&product_id=1414&search=realme\n",
      "#content > div.products-category > div.products-list.row.nopadding-xs > div:nth-child(12)\n",
      "https://mobaili.com/index.php?route=product/product&product_id=1464&search=realme\n",
      "Scraping page 2\n",
      "#content > div.products-category > div.products-list.row.nopadding-xs > div:nth-child(1)\n",
      "https://mobaili.com/index.php?route=product/product&product_id=1151&search=realme\n",
      "#content > div.products-category > div.products-list.row.nopadding-xs > div:nth-child(2)\n",
      "https://mobaili.com/index.php?route=product/product&product_id=1020&search=realme\n",
      "#content > div.products-category > div.products-list.row.nopadding-xs > div:nth-child(3)\n",
      "https://mobaili.com/index.php?route=product/product&product_id=638&search=realme\n",
      "#content > div.products-category > div.products-list.row.nopadding-xs > div:nth-child(4)\n",
      "https://mobaili.com/index.php?route=product/product&product_id=1077&search=realme\n",
      "#content > div.products-category > div.products-list.row.nopadding-xs > div:nth-child(5)\n",
      "https://mobaili.com/index.php?route=product/product&product_id=1268&search=realme\n",
      "#content > div.products-category > div.products-list.row.nopadding-xs > div:nth-child(6)\n",
      "https://mobaili.com/index.php?route=product/product&product_id=1366&search=realme\n",
      "#content > div.products-category > div.products-list.row.nopadding-xs > div:nth-child(7)\n",
      "https://mobaili.com/index.php?route=product/product&product_id=1368&search=realme\n",
      "#content > div.products-category > div.products-list.row.nopadding-xs > div:nth-child(8)\n",
      "https://mobaili.com/index.php?route=product/product&product_id=1367&search=realme\n",
      "#content > div.products-category > div.products-list.row.nopadding-xs > div:nth-child(9)\n",
      "https://mobaili.com/index.php?route=product/product&product_id=1426&search=realme\n",
      "#content > div.products-category > div.products-list.row.nopadding-xs > div:nth-child(10)\n",
      "https://mobaili.com/index.php?route=product/product&product_id=1504&search=realme\n",
      "#content > div.products-category > div.products-list.row.nopadding-xs > div:nth-child(11)\n",
      "https://mobaili.com/index.php?route=product/product&product_id=1414&search=realme\n",
      "#content > div.products-category > div.products-list.row.nopadding-xs > div:nth-child(12)\n",
      "https://mobaili.com/index.php?route=product/product&product_id=1464&search=realme\n"
     ]
    }
   ],
   "source": [
    "\n",
    "for index, row in df.iterrows():\n",
    "       browser.get('https://mobaili.com/')\n",
    "       pn = row['PN']\n",
    "        #search(pn)\n",
    "       num_of_scraped_pages=2\n",
    "       for i in range(0,2):\n",
    "            print('Scraping page', i+1)\n",
    "            for x in range(1,13):\n",
    "                search(pn)\n",
    "                u=search_result(x)\n",
    "                print(u) \n",
    "                price = browser.find_element(By.XPATH, \"//span[@itemprop='price']\")\n",
    "                title = browser.find_element(By.XPATH, \"//h1[@itemprop='name']\") \n",
    "                table_data = extract_table_data()\n",
    "                if table_data:\n",
    "                    for label, value in table_data:\n",
    "                            products.append({\n",
    "                               'pn':pn,\n",
    "                            'price':price.text,\n",
    "                            'title':title.text,\n",
    "                            'Label': label,\n",
    "                                'Value': value,\n",
    "                                'URL': u\n",
    "                            })  \n",
    "       if(i!=(num_of_scraped_pages-1)):                 \n",
    "           next_button = browser.find_element(By.XPATH, \"//a[text()='Next']\")\n",
    "           next_button.click()"
   ]
  },
  {
   "cell_type": "code",
   "execution_count": 8,
   "metadata": {},
   "outputs": [
    {
     "data": {
      "text/plain": [
       "66"
      ]
     },
     "execution_count": 8,
     "metadata": {},
     "output_type": "execute_result"
    }
   ],
   "source": [
    "len(products)"
   ]
  },
  {
   "cell_type": "code",
   "execution_count": 9,
   "metadata": {},
   "outputs": [
    {
     "data": {
      "text/plain": [
       "[{'pn': 'honor',\n",
       "  'price': '3,599 LE',\n",
       "  'title': 'Honor 10 Lite Dual Sim , 64GB, 3GB RAM, 4G LTE, Sky Blue',\n",
       "  'Label': 'BrandsHonor',\n",
       "  'Value': 'Honor',\n",
       "  'URL': 'https://mobaili.com/index.php?route=product/product&product_id=558&search=honor'},\n",
       " {'pn': 'honor',\n",
       "  'price': '3,499 LE',\n",
       "  'title': 'Honor 10 Lite Dual Sim - 64GB, 3GB RAM, 4G LTE, Sky Blue',\n",
       "  'Label': 'BrandsHonor',\n",
       "  'Value': 'Honor',\n",
       "  'URL': 'https://mobaili.com/index.php?route=product/product&product_id=1222&search=honor'},\n",
       " {'pn': 'honor',\n",
       "  'price': '2,879 LE',\n",
       "  'title': 'Honor 10X Lite Dual SIM Mobile - 6.67 Inches, 128 GB, 4 GB RAM, 4G LTE - Emerald Green',\n",
       "  'Label': 'BrandsHonor',\n",
       "  'Value': 'Honor',\n",
       "  'URL': 'https://mobaili.com/index.php?route=product/product&product_id=1627&search=honor'},\n",
       " {'pn': 'honor',\n",
       "  'price': '2,879 LE',\n",
       "  'title': 'Honor 10X Lite Dual SIM Mobile - 6.67 Inches, 128 GB, 4 GB RAM, 4G LTE - Icelandic Frost',\n",
       "  'Label': 'BrandsHonor',\n",
       "  'Value': 'Honor',\n",
       "  'URL': 'https://mobaili.com/index.php?route=product/product&product_id=1628&search=honor'},\n",
       " {'pn': 'honor',\n",
       "  'price': '7,499 LE',\n",
       "  'title': 'Honor 20 Dual SIM Mobile - 6.26 Inch, 128 GB, 6 GB RAM, 4G LTE - Sapphire Blue',\n",
       "  'Label': 'BrandsHonor',\n",
       "  'Value': 'Honor',\n",
       "  'URL': 'https://mobaili.com/index.php?route=product/product&product_id=1271&search=honor'}]"
      ]
     },
     "execution_count": 9,
     "metadata": {},
     "output_type": "execute_result"
    }
   ],
   "source": [
    "products[:5]"
   ]
  },
  {
   "cell_type": "code",
   "execution_count": 10,
   "metadata": {},
   "outputs": [],
   "source": [
    "browser.quit()"
   ]
  },
  {
   "cell_type": "code",
   "execution_count": 11,
   "metadata": {},
   "outputs": [],
   "source": [
    "output_df = pd.DataFrame(products)\n",
    "output_df.to_excel(output_file, index=False)"
   ]
  },
  {
   "cell_type": "code",
   "execution_count": null,
   "metadata": {},
   "outputs": [],
   "source": []
  }
 ],
 "metadata": {
  "kernelspec": {
   "display_name": "Python 3 (ipykernel)",
   "language": "python",
   "name": "python3"
  },
  "language_info": {
   "codemirror_mode": {
    "name": "ipython",
    "version": 3
   },
   "file_extension": ".py",
   "mimetype": "text/x-python",
   "name": "python",
   "nbconvert_exporter": "python",
   "pygments_lexer": "ipython3",
   "version": "3.12.4"
  }
 },
 "nbformat": 4,
 "nbformat_minor": 4
}
