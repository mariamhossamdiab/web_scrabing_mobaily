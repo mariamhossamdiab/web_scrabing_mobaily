{
 "cells": [
  {
   "cell_type": "code",
   "execution_count": 1,
   "id": "ccd66d75",
   "metadata": {},
   "outputs": [],
   "source": [
    "import pandas as pd\n",
    "from selenium import webdriver\n",
    "from selenium.webdriver.common.by import By\n",
    "from selenium.webdriver.common.keys import Keys\n",
    "from selenium.webdriver.support.ui import WebDriverWait\n",
    "from selenium.webdriver.support import expected_conditions as EC\n",
    "from selenium.common.exceptions import NoSuchElementException, TimeoutException\n",
    "from bs4 import BeautifulSoup"
   ]
  },
  {
   "cell_type": "code",
   "execution_count": 2,
   "id": "283f0cd0",
   "metadata": {},
   "outputs": [],
   "source": [
    "\n",
    "\n",
    "input_file = r\"E:\\365 ds\\abo\\silinum\\test\\fff.xlsx\"\n",
    "output_file = r\"E:\\365 ds\\abo\\silinum\\test\\output_data.xlsx\"\n",
    "df = pd.read_excel(input_file)\n",
    "driver = webdriver.Chrome()"
   ]
  },
  {
   "cell_type": "code",
   "execution_count": 3,
   "id": "6502434d",
   "metadata": {},
   "outputs": [],
   "source": [
    "def search(pn):\n",
    "    try:\n",
    "        search_bar = driver.find_element(By.CSS_SELECTOR, 'input.form-control.form-control-sm.autocomplete-global')\n",
    "        search_bar.clear()\n",
    "        search_bar.send_keys(pn)\n",
    "        search_bar.send_keys(Keys.ENTER)\n",
    "    except NoSuchElementException:\n",
    "        print(f\"Search bar not found for PN: {pn}\")"
   ]
  },
  {
   "cell_type": "code",
   "execution_count": 4,
   "id": "8402bef8",
   "metadata": {},
   "outputs": [],
   "source": [
    "\n",
    "def search_result():\n",
    "    try:\n",
    "        search_result_element = WebDriverWait(driver, 10).until(\n",
    "            EC.presence_of_element_located((By.CSS_SELECTOR, 'a.underline.font12em'))\n",
    "        )\n",
    "        search_result_element.click()\n",
    "        return driver.current_url\n",
    "    except (TimeoutException, NoSuchElementException):\n",
    "        print(\"Search result not found or took too long to load\")\n",
    "        return None"
   ]
  },
  {
   "cell_type": "code",
   "execution_count": 5,
   "id": "774074da",
   "metadata": {},
   "outputs": [
    {
     "data": {
      "text/plain": [
       "\"def extract_table_data():\\n    soup = BeautifulSoup(driver.page_source, 'html.parser')\\n    container = soup.find('div', {'class': 'page-grid container-fluid min-h-screen pb-[84px]'})\\n    \\n    data = []\\n    if container:\\n        rows = container.find_all('div', {'class': 'row margin-bottom'})\\n        for row in rows:\\n            label_div = row.find('div', {'class': 'col-lg-5 col-md-5 col-sm-12 bold'})\\n            value_div = row.find('div', {'class': 'block col-lg-7 col-md-7 col-sm-12'})\\n            if label_div and value_div:\\n                label = label_div.get_text(strip=True)\\n                value = value_div.get_text(strip=True)\\n                data.append((label, value))\\n    \\n    return data\""
      ]
     },
     "execution_count": 5,
     "metadata": {},
     "output_type": "execute_result"
    }
   ],
   "source": [
    "\"\"\"def extract_table_data():\n",
    "    soup = BeautifulSoup(driver.page_source, 'html.parser')\n",
    "    container = soup.find('div', {'class': 'page-grid container-fluid min-h-screen pb-[84px]'})\n",
    "    \n",
    "    data = []\n",
    "    if container:\n",
    "        rows = container.find_all('div', {'class': 'row margin-bottom'})\n",
    "        for row in rows:\n",
    "            label_div = row.find('div', {'class': 'col-lg-5 col-md-5 col-sm-12 bold'})\n",
    "            value_div = row.find('div', {'class': 'block col-lg-7 col-md-7 col-sm-12'})\n",
    "            if label_div and value_div:\n",
    "                label = label_div.get_text(strip=True)\n",
    "                value = value_div.get_text(strip=True)\n",
    "                data.append((label, value))\n",
    "    \n",
    "    return data\"\"\""
   ]
  },
  {
   "cell_type": "code",
   "execution_count": 6,
   "id": "3d76e017",
   "metadata": {},
   "outputs": [
    {
     "data": {
      "text/plain": [
       "'def extract_title():\\n    try:\\n        title = driver.find_element(By.XPATH, \\'//*[@id=\"breadcrumbs\"]\\').text\\n        return title\\n    except NoSuchElementException:\\n        print(\"Title not found\")\\n        return None'"
      ]
     },
     "execution_count": 6,
     "metadata": {},
     "output_type": "execute_result"
    }
   ],
   "source": [
    "\"\"\"def extract_title():\n",
    "    try:\n",
    "        title = driver.find_element(By.XPATH, '//*[@id=\"breadcrumbs\"]').text\n",
    "        return title\n",
    "    except NoSuchElementException:\n",
    "        print(\"Title not found\")\n",
    "        return None\"\"\""
   ]
  },
  {
   "cell_type": "code",
   "execution_count": 7,
   "id": "611fcfea",
   "metadata": {},
   "outputs": [],
   "source": [
    "def get_pn():\n",
    "    try:\n",
    "        element = WebDriverWait(driver, 10).until(\n",
    "            EC.presence_of_element_located((By.CSS_SELECTOR, 'body > main > section:nth-child(3) > div.col-lg-12.col-md-12.col-sm-12.margin-bottom.border-bottom > div.pull-left > h1'))\n",
    "        )\n",
    "        return element.text.strip()\n",
    "    except TimeoutException:\n",
    "        print(\"Search results not loaded for PN\")\n",
    "        return None"
   ]
  },
  {
   "cell_type": "code",
   "execution_count": 8,
   "id": "d326c891",
   "metadata": {},
   "outputs": [],
   "source": [
    "def extract_description():\n",
    "    try:\n",
    "        description = driver.find_element(By.XPATH, '/html/body/main/div/div[12]/p').text\n",
    "        return description\n",
    "    except NoSuchElementException:\n",
    "        print(\"Description not found\")\n",
    "        return None\n"
   ]
  },
  {
   "cell_type": "code",
   "execution_count": 9,
   "id": "cc707b20",
   "metadata": {},
   "outputs": [
    {
     "name": "stdout",
     "output_type": "stream",
     "text": [
      "Search bar not found for PN: apartment \n",
      "Search result not found or took too long to load\n",
      "Search bar not found for PN: furnished-apartment \n",
      "Search result not found or took too long to load\n",
      "Search bar not found for PN: chalet \n",
      "Search result not found or took too long to load\n",
      "Search bar not found for PN: villa \n",
      "Search result not found or took too long to load\n",
      "Search bar not found for PN: land-or-farm \n",
      "Search result not found or took too long to load\n",
      "Search bar not found for PN: building \n",
      "Search result not found or took too long to load\n",
      "Search bar not found for PN:  commercial\n",
      "Search result not found or took too long to load\n",
      "Search bar not found for PN:  administrative\n",
      "Search result not found or took too long to load\n",
      "Search bar not found for PN:  medical\n",
      "Search result not found or took too long to load\n",
      "Search bar not found for PN:  shared-rooms\n",
      "Search result not found or took too long to load\n",
      "Search bar not found for PN:  land-or-commercial\n",
      "Search result not found or took too long to load\n",
      "Search bar not found for PN:  property-type\n",
      "Search result not found or took too long to load\n"
     ]
    }
   ],
   "source": [
    "all_data = []\n",
    "\n",
    "try:\n",
    "    for index, row in df.iterrows():\n",
    "        driver.get('https://aqarmap.com.eg/en/')\n",
    "        pn = row['PN']\n",
    "        search(pn)\n",
    "        page_url = search_result()\n",
    "        if page_url:\n",
    "            title = extract_title()\n",
    "            description = extract_description()\n",
    "            pn_from_result = get_pn()\n",
    "            table_data = extract_table_data()\n",
    "            if table_data:\n",
    "                for label, value in table_data:\n",
    "                    all_data.append({\n",
    "                        'PN': pn,\n",
    "                        'Result PN': pn_from_result,\n",
    "                       \"\"\" 'Label': label,\n",
    "                        'Value': value,\n",
    "                        'URL': page_url,\n",
    "                        'Title': title,\"\"\"\n",
    "                        'Description': description\n",
    "                    })\n",
    "finally:\n",
    "    driver.quit()\n"
   ]
  },
  {
   "cell_type": "code",
   "execution_count": 10,
   "id": "1887f545",
   "metadata": {},
   "outputs": [],
   "source": [
    "output_df = pd.DataFrame(all_data)\n",
    "output_df.to_excel(output_file, index=False)"
   ]
  },
  {
   "cell_type": "code",
   "execution_count": null,
   "id": "e6d103be-1a18-41bb-b091-af99f5ac8087",
   "metadata": {},
   "outputs": [],
   "source": []
  }
 ],
 "metadata": {
  "kernelspec": {
   "display_name": "Python 3 (ipykernel)",
   "language": "python",
   "name": "python3"
  },
  "language_info": {
   "codemirror_mode": {
    "name": "ipython",
    "version": 3
   },
   "file_extension": ".py",
   "mimetype": "text/x-python",
   "name": "python",
   "nbconvert_exporter": "python",
   "pygments_lexer": "ipython3",
   "version": "3.12.4"
  },
  "varInspector": {
   "cols": {
    "lenName": 16,
    "lenType": 16,
    "lenVar": 40
   },
   "kernels_config": {
    "python": {
     "delete_cmd_postfix": "",
     "delete_cmd_prefix": "del ",
     "library": "var_list.py",
     "varRefreshCmd": "print(var_dic_list())"
    },
    "r": {
     "delete_cmd_postfix": ") ",
     "delete_cmd_prefix": "rm(",
     "library": "var_list.r",
     "varRefreshCmd": "cat(var_dic_list()) "
    }
   },
   "types_to_exclude": [
    "module",
    "function",
    "builtin_function_or_method",
    "instance",
    "_Feature"
   ],
   "window_display": false
  }
 },
 "nbformat": 4,
 "nbformat_minor": 5
}
